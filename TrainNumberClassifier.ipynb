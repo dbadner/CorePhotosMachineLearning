{
 "cells": [
  {
   "cell_type": "code",
   "execution_count": 1,
   "metadata": {},
   "outputs": [],
   "source": [
    "import csv\n",
    "import numpy as np\n",
    "import seaborn as sns\n",
    "import matplotlib.pyplot as plt\n",
    "from sklearn.model_selection import train_test_split\n",
    "from sklearn import svm\n",
    "from sklearn import linear_model\n",
    "from sklearn import metrics\n",
    "from sklearn.metrics import classification_report, confusion_matrix\n"
   ]
  },
  {
   "cell_type": "code",
   "execution_count": 26,
   "metadata": {},
   "outputs": [],
   "source": [
    "#read in csv\n",
    "datasetPath = 'depth_train_dataset.csv'\n",
    "dataList = []\n",
    "labelList = []\n",
    "for i, row in enumerate(open(datasetPath)):\n",
    "    if i == 0: continue #skip first row, header rown\n",
    "    # parse the label and image from the row\n",
    "    row = row.split(\",\")\n",
    "    #print(row)\n",
    "    label = int(row[0])\n",
    "    datarow = np.array([x for x in row[1:6]], dtype=\"float32\")\n",
    "    \n",
    "    #print(datarow)\n",
    "    \n",
    "    dataList.append(datarow)\n",
    "    labelList.append(label)\n",
    "data = np.array(dataList, dtype=\"float32\")\n",
    "labels = np.array(labelList, dtype=\"int\")\n",
    "\n",
    "#then scale the data\n",
    "sc = StandardScaler()\n",
    "data = sc.fit_transform(data)\n",
    "\n",
    "# Split dataset into training set and test set\n",
    "X_train, X_test, y_train, y_test = train_test_split(data, labels, test_size=0.3, random_state=3) # 70% training and 30% test\n",
    "\n"
   ]
  },
  {
   "cell_type": "code",
   "execution_count": 23,
   "metadata": {},
   "outputs": [
    {
     "name": "stdout",
     "output_type": "stream",
     "text": [
      "[ 0.00000000e+00 -4.62893069e-01  2.15517241e-03 -1.53508767e-01\n",
      " -3.87019217e-01  3.76824826e-01 -3.14603359e-01  3.00759017e-01\n",
      " -1.87500000e-01 -2.92179793e-01 -1.74878344e-01 -4.33962256e-01\n",
      "  2.68629819e-01  1.27969116e-01  2.80878872e-01  1.96298987e-01\n",
      "  4.79088634e-01 -3.83713931e-01 -3.09306562e-01  1.00973234e-01\n",
      "  7.38916248e-02  0.00000000e+00 -1.17836259e-01 -1.48722634e-01\n",
      "  3.38679254e-01  0.00000000e+00  0.00000000e+00 -4.69521046e-01\n",
      " -9.23645333e-04 -1.29062504e-01 -1.48640096e-01  2.39405438e-01\n",
      "  4.45287794e-01  2.71033645e-01  1.19544595e-01  3.35158139e-01\n",
      " -3.83713931e-01  8.53365362e-02  2.75841355e-01 -1.85036942e-01\n",
      " -1.24843942e-03 -3.68214518e-01  9.81033314e-04 -3.04136246e-01\n",
      "  2.40147784e-01  3.43596071e-01 -1.91194579e-01 -1.56250002e-03\n",
      "  2.77044028e-01 -1.80183128e-01 -1.90699130e-01 -4.07066494e-01\n",
      "  4.49513376e-01 -3.63377601e-01  4.40251594e-03 -2.90712893e-01\n",
      "  3.60877395e-01  3.43274862e-01 -2.97752798e-01  1.09857479e-02\n",
      " -1.52019009e-01 -2.75016338e-01 -3.06966633e-01 -4.12034020e-02\n",
      " -4.62740391e-01  4.71220732e-01  1.21758379e-01  2.76785702e-01\n",
      "  8.01662728e-03  3.39181274e-01 -1.39695212e-01  1.17295600e-01\n",
      "  2.79501230e-01  2.70467848e-01 -2.85849065e-01  3.41760308e-01\n",
      " -3.83112967e-01  4.17997092e-01  3.66389543e-01  3.34549882e-03\n",
      "  2.74630547e-01  6.46551745e-03  4.83918130e-01 -2.99687505e-01\n",
      " -3.88521641e-01  1.75438598e-01  2.69811332e-01  4.46298979e-02\n",
      "  1.70937493e-01  0.00000000e+00  5.01265049e-01  2.67495096e-01\n",
      " -6.72514597e-03  0.00000000e+00  4.57232714e-01 -3.80774021e-01\n",
      " -1.33713946e-01  4.17924523e-01 -1.11638956e-01 -3.84615391e-01\n",
      " -2.66187042e-01  0.00000000e+00 -1.89603359e-01 -6.00961549e-03\n",
      "  3.59712238e-03 -8.64779875e-02 -3.81578952e-01  1.01435706e-01\n",
      " -3.08593750e-01 -6.08272525e-03 -2.83681214e-01 -2.96783626e-01\n",
      " -3.75000000e-01  1.16415955e-01 -1.66182876e-01 -2.84738719e-01\n",
      " -3.89825225e-01  3.60576925e-03 -1.00253001e-01 -9.67952907e-02\n",
      "  4.67457414e-01 -1.29562050e-01  0.00000000e+00 -3.72187495e-01\n",
      " -1.60332546e-02 -1.82897866e-01  0.00000000e+00  1.46173969e-01\n",
      "  0.00000000e+00 -2.85894990e-01 -3.87773722e-01  3.32500011e-01\n",
      "  1.08966745e-01 -1.98016822e-01  4.72187489e-01  4.82812494e-01\n",
      " -1.09857479e-02  5.11973858e-01 -1.31009609e-01  3.89470458e-01\n",
      "  3.40745598e-01  9.12280679e-02 -3.60693276e-01  0.00000000e+00\n",
      "  2.73722620e-03 -1.47836536e-01  0.00000000e+00  2.51539409e-01\n",
      " -1.75438600e-03  0.00000000e+00 -9.68749970e-02  3.24383169e-01\n",
      " -3.15914482e-01 -3.04387033e-01  4.73099411e-01 -3.56442109e-02\n",
      " -3.82334590e-01 -3.75912398e-01 -1.11478366e-01 -3.09495181e-01\n",
      "  4.79371935e-01 -9.11949649e-02 -3.02812487e-01  1.01600982e-01\n",
      " -2.79267490e-01 -1.19225964e-01  0.00000000e+00  2.73877293e-01\n",
      " -3.11173528e-01  3.45983565e-01  1.89753319e-03 -1.10691823e-01\n",
      "  0.00000000e+00  1.39548695e-02  3.35206002e-01 -1.32211536e-01\n",
      " -4.69811320e-01  1.57232699e-03 -4.03206646e-01 -3.69496852e-01\n",
      "  4.88751829e-01  9.40504819e-02  0.00000000e+00  1.22812502e-01\n",
      " -3.69655579e-01 -3.07500005e-01 -3.76608193e-01  4.09651667e-01\n",
      " -2.94950753e-01 -1.47368416e-01  3.16255522e-04  7.80116096e-02\n",
      " -9.42441523e-02 -3.71157616e-01  4.79712874e-01 -3.82985443e-01\n",
      " -1.05168270e-02  2.73054272e-01  1.07500002e-01  2.70624995e-01\n",
      " -1.24843948e-01 -2.91058391e-01  6.28930808e-04 -2.87792534e-01\n",
      " -2.56531209e-01  3.34598362e-01  3.50628942e-01 -3.80994141e-01\n",
      "  0.00000000e+00  2.70377129e-01 -2.05528840e-01 -2.95906425e-01\n",
      "  2.88461536e-01  3.79506638e-03 -1.01700455e-01 -3.34905654e-01\n",
      "  4.98418719e-01 -9.26628709e-02  2.97505945e-01 -4.04807068e-02\n",
      " -1.89903840e-01 -3.25842708e-01  4.85276431e-01 -4.63522017e-01\n",
      " -3.77028704e-01 -3.77704322e-01  1.00312501e-01  4.96521175e-01\n",
      "  2.06821486e-01  0.00000000e+00 -3.72549027e-01  3.49459141e-01\n",
      " -4.67500001e-01 -2.77093588e-03 -3.02631587e-01 -3.88011694e-01\n",
      "  0.00000000e+00  0.00000000e+00 -4.35776502e-01 -1.14051096e-01\n",
      "  3.21249992e-01  4.62066710e-01  0.00000000e+00  2.61543334e-01\n",
      "  2.82656014e-01  0.00000000e+00  0.00000000e+00  1.47375077e-01\n",
      " -3.87165457e-01 -1.12834550e-01 -1.84693232e-01 -2.82075465e-01\n",
      " -4.31372553e-01 -1.01840854e-01  4.62720722e-01  3.39720190e-01\n",
      "  1.20994113e-01  1.30297273e-01  0.00000000e+00]\n"
     ]
    }
   ],
   "source": [
    "print(X_train[:,1])"
   ]
  },
  {
   "cell_type": "code",
   "execution_count": 28,
   "metadata": {},
   "outputs": [
    {
     "data": {
      "image/png": "[encoded data removed]",
      "text/plain": [
       "<Figure size 1080x288 with 5 Axes>"
      ]
     },
     "metadata": {
      "needs_background": "light"
     },
     "output_type": "display_data"
    }
   ],
   "source": [
    "# Feature Scaling Test\n",
    "#from sklearn.preprocessing import StandardScaler\n",
    "\n",
    "#first plot nonscaled data\n",
    "fig, axs = plt.subplots(1, 5)\n",
    "fig.set_figwidth(15)\n",
    "for i, ax in enumerate(axs.reshape(-1)): \n",
    "    n, bins, patches = ax.hist(x=X_train[:,i], bins='auto', alpha=0.7, rwidth=0.85)\n",
    "    ax.grid(axis='y', alpha=0.75)\n",
    "    #ax.xlabel('Value {}'.format(i))\n",
    "    #ax.ylabel('Frequency')\n",
    "\n",
    "\n",
    "# #then scale the data\n",
    "# sc = StandardScaler()\n",
    "# X_train = sc.fit_transform(X_train)\n",
    "# #X_train = sc.fit(X_train)\n",
    "# #X_train = sc.transform(X_train)\n",
    "# X_test = sc.transform(X_test)\n",
    "\n",
    "# #now plot scaled data\n",
    "# fig2, axs2 = plt.subplots(1, 5)\n",
    "# fig2.set_figwidth(15)\n",
    "# for i, ax in enumerate(axs2.reshape(-1)): \n",
    "#     n, bins, patches = ax.hist(x=X_train[:,i], bins='auto', alpha=0.7, rwidth=0.85)\n",
    "#     ax.grid(axis='y', alpha=0.75)\n"
   ]
  },
  {
   "cell_type": "code",
   "execution_count": 72,
   "metadata": {},
   "outputs": [
    {
     "name": "stdout",
     "output_type": "stream",
     "text": [
      "Accuracy: 0.8928571428571429\n",
      "Precision: 0.4\n",
      "Recall: 1.0\n",
      "F1 Score: 0.5714285714285715\n"
     ]
    }
   ],
   "source": [
    "#SVM linear model\n",
    "#Create a svm Classifier\n",
    "clf = svm.SVC(kernel='linear', class_weight='balanced', gamma='scale', random_state=112) # Linear Kernel\n",
    "\n",
    "#Train the model using the training sets\n",
    "clf.fit(X_train, y_train)\n",
    "\n",
    "#Predict the response for test dataset\n",
    "y_pred = clf.predict(X_test)\n",
    "\n",
    "# Model Accuracy: how often is the classifier correct?\n",
    "print(\"Accuracy:\",metrics.accuracy_score(y_test, y_pred))\n",
    "\n",
    "# Model Precision: # correctly predicted positives / # predicted as positive\n",
    "print(\"Precision:\",metrics.precision_score(y_test, y_pred))\n",
    "\n",
    "# Model Recall: # correctly predicted positives / # actual positives\n",
    "print(\"Recall:\",metrics.recall_score(y_test, y_pred))\n",
    "\n",
    "# F1 Score F1 = 2 * (precision * recall) / (precision + recall)\n",
    "print(\"F1 Score:\",metrics.f1_score(y_test, y_pred))"
   ]
  },
  {
   "cell_type": "code",
   "execution_count": 84,
   "metadata": {},
   "outputs": [
    {
     "name": "stdout",
     "output_type": "stream",
     "text": [
      "Accuracy: 0.9285714285714286\n",
      "Precision: 0.5\n",
      "Recall: 1.0\n",
      "F1 Score: 0.6666666666666666\n"
     ]
    }
   ],
   "source": [
    "#SVM gaussian model\n",
    "#Create a svm Classifier\n",
    "clf = svm.SVC(kernel='rbf', class_weight='balanced', gamma='scale', random_state=8) # Linear Kernel\n",
    "\n",
    "#Train the model using the training sets\n",
    "clf.fit(X_train, y_train)\n",
    "\n",
    "#Predict the response for test dataset\n",
    "y_pred = clf.predict(X_test)\n",
    "\n",
    "# Model Accuracy: how often is the classifier correct?\n",
    "print(\"Accuracy:\",metrics.accuracy_score(y_test, y_pred))\n",
    "\n",
    "# Model Precision: # correctly predicted positives / # predicted as positive\n",
    "print(\"Precision:\",metrics.precision_score(y_test, y_pred))\n",
    "\n",
    "# Model Recall: # correctly predicted positives / # actual positives\n",
    "print(\"Recall:\",metrics.recall_score(y_test, y_pred))\n",
    "\n",
    "# F1 Score F1 = 2 * (precision * recall) / (precision + recall)\n",
    "print(\"F1 Score:\",metrics.f1_score(y_test, y_pred))"
   ]
  },
  {
   "cell_type": "code",
   "execution_count": 47,
   "metadata": {},
   "outputs": [
    {
     "name": "stdout",
     "output_type": "stream",
     "text": [
      "TRAIN\n",
      "Accuracy: 0.9845559845559846\n",
      "Precision: 0.8\n",
      "Recall: 1.0\n",
      "F1 Score: 0.888888888888889\n",
      "TEST\n",
      "Accuracy: 0.9821428571428571\n",
      "Precision: 0.8\n",
      "Recall: 1.0\n",
      "F1 Score: 0.888888888888889\n"
     ]
    }
   ],
   "source": [
    "#SVM Polynomial model\n",
    "#Create a svm Classifier\n",
    "clf = svm.SVC(kernel='poly', degree=4, class_weight='balanced', gamma='scale', random_state=11) # Linear Kernel\n",
    "\n",
    "#Train the model using the training sets\n",
    "clf.fit(X_train, y_train)\n",
    "\n",
    "#Predict the response for test dataset\n",
    "y_trainpred = clf.predict(X_train)\n",
    "y_pred = clf.predict(X_test)\n",
    "\n",
    "print(\"TRAIN\")\n",
    "\n",
    "# Model Accuracy: how often is the classifier correct?\n",
    "print(\"Accuracy:\",metrics.accuracy_score(y_train, y_trainpred))\n",
    "\n",
    "# Model Precision: # correctly predicted positives / # predicted as positive\n",
    "print(\"Precision:\",metrics.precision_score(y_train, y_trainpred))\n",
    "\n",
    "# Model Recall: # correctly predicted positives / # actual positives\n",
    "print(\"Recall:\",metrics.recall_score(y_train, y_trainpred))\n",
    "\n",
    "# F1 Score F1 = 2 * (precision * recall) / (precision + recall)\n",
    "print(\"F1 Score:\",metrics.f1_score(y_train, y_trainpred))\n",
    "\n",
    "print(\"TEST\")\n",
    "\n",
    "# Model Accuracy: how often is the classifier correct?\n",
    "print(\"Accuracy:\",metrics.accuracy_score(y_test, y_pred))\n",
    "\n",
    "# Model Precision: # correctly predicted positives / # predicted as positive\n",
    "print(\"Precision:\",metrics.precision_score(y_test, y_pred))\n",
    "\n",
    "# Model Recall: # correctly predicted positives / # actual positives\n",
    "print(\"Recall:\",metrics.recall_score(y_test, y_pred))\n",
    "\n",
    "# F1 Score F1 = 2 * (precision * recall) / (precision + recall)\n",
    "print(\"F1 Score:\",metrics.f1_score(y_test, y_pred))"
   ]
  },
  {
   "cell_type": "code",
   "execution_count": 79,
   "metadata": {},
   "outputs": [
    {
     "name": "stdout",
     "output_type": "stream",
     "text": [
      "Accuracy: 0.7410714285714286\n",
      "Precision: 0.08\n",
      "Recall: 0.25\n",
      "F1 Score: 0.12121212121212122\n"
     ]
    }
   ],
   "source": [
    "#SVM sigmoid model\n",
    "#Create a svm Classifier\n",
    "clf = svm.SVC(kernel='sigmoid', class_weight='balanced', gamma='scale', random_state=112) # Linear Kernel\n",
    "\n",
    "#Train the model using the training sets\n",
    "clf.fit(X_train, y_train)\n",
    "\n",
    "#Predict the response for test dataset\n",
    "y_pred = clf.predict(X_test)\n",
    "\n",
    "# Model Accuracy: how often is the classifier correct?\n",
    "print(\"Accuracy:\",metrics.accuracy_score(y_test, y_pred))\n",
    "\n",
    "# Model Precision: # correctly predicted positives / # predicted as positive\n",
    "print(\"Precision:\",metrics.precision_score(y_test, y_pred))\n",
    "\n",
    "# Model Recall: # correctly predicted positives / # actual positives\n",
    "print(\"Recall:\",metrics.recall_score(y_test, y_pred))\n",
    "\n",
    "# F1 Score F1 = 2 * (precision * recall) / (precision + recall)\n",
    "print(\"F1 Score:\",metrics.f1_score(y_test, y_pred))"
   ]
  },
  {
   "cell_type": "code",
   "execution_count": 71,
   "metadata": {},
   "outputs": [
    {
     "name": "stdout",
     "output_type": "stream",
     "text": [
      "Accuracy: 0.9017857142857143\n",
      "Precision: 0.42105263157894735\n",
      "Recall: 1.0\n",
      "F1 Score: 0.5925925925925926\n"
     ]
    }
   ],
   "source": [
    "#logistic regression model\n",
    "#Create\n",
    "clf = linear_model.LogisticRegression(class_weight='balanced', random_state=None) # Linear Kernel\n",
    "\n",
    "#Train the model using the training sets\n",
    "clf.fit(X_train, y_train)\n",
    "\n",
    "#Predict the response for test dataset\n",
    "y_pred = clf.predict(X_test)\n",
    "\n",
    "# Model Accuracy: how often is the classifier correct?\n",
    "print(\"Accuracy:\",metrics.accuracy_score(y_test, y_pred))\n",
    "\n",
    "# Model Precision: # correctly predicted positives / # predicted as positive\n",
    "print(\"Precision:\",metrics.precision_score(y_test, y_pred))\n",
    "\n",
    "# Model Recall: # correctly predicted positives / # actual positives\n",
    "print(\"Recall:\",metrics.recall_score(y_test, y_pred))\n",
    "\n",
    "# F1 Score F1 = 2 * (precision * recall) / (precision + recall)\n",
    "print(\"F1 Score:\",metrics.f1_score(y_test, y_pred))\n"
   ]
  },
  {
   "cell_type": "code",
   "execution_count": 62,
   "metadata": {},
   "outputs": [
    {
     "name": "stdout",
     "output_type": "stream",
     "text": [
      "4.0789046\n",
      "1.9235044\n",
      "[-1.1104561  -1.6329515  -0.66361654 -0.5371752 ]\n",
      "[ 0.43669268  0.06361189  1.8991386  -0.5371752 ]\n"
     ]
    }
   ],
   "source": [
    "#random forest model\n",
    "\n",
    "\n",
    "\n"
   ]
  },
  {
   "cell_type": "code",
   "execution_count": 32,
   "metadata": {},
   "outputs": [
    {
     "name": "stdout",
     "output_type": "stream",
     "text": [
      "[[102   2]\n",
      " [  0   8]]\n",
      "              precision    recall  f1-score   support\n",
      "\n",
      "           0       1.00      0.98      0.99       104\n",
      "           1       0.80      1.00      0.89         8\n",
      "\n",
      "    accuracy                           0.98       112\n",
      "   macro avg       0.90      0.99      0.94       112\n",
      "weighted avg       0.99      0.98      0.98       112\n",
      "\n"
     ]
    }
   ],
   "source": [
    "print(confusion_matrix(y_test,y_pred))\n",
    "print(classification_report(y_test,y_pred))"
   ]
  },
  {
   "cell_type": "code",
   "execution_count": 48,
   "metadata": {},
   "outputs": [
    {
     "data": {
      "image/png": "[encoded data removed]",
      "text/plain": [
       "<Figure size 648x648 with 2 Axes>"
      ]
     },
     "metadata": {
      "needs_background": "light"
     },
     "output_type": "display_data"
    }
   ],
   "source": [
    "score = clf.score(X_test, y_test)\n",
    "cm = metrics.confusion_matrix(y_test, y_pred)\n",
    "\n",
    "plt.figure(figsize=(9,9))\n",
    "sns.heatmap(cm, annot=True, fmt=\".3f\", linewidths=.5, square = True, cmap = 'Blues_r');\n",
    "plt.ylabel('Actual label');\n",
    "plt.xlabel('Predicted label');\n",
    "all_sample_title = 'Accuracy Score: {:.2f}'.format(score)\n",
    "plt.title(all_sample_title, size = 15);"
   ]
  },
  {
   "cell_type": "code",
   "execution_count": 56,
   "metadata": {},
   "outputs": [],
   "source": [
    "#from: https://machinelearningmastery.com/how-to-save-and-load-models-and-data-preparation-in-scikit-learn-for-later-use/\n",
    "from pickle import dump\n",
    "# save the model\n",
    "dump(clf, open('word_number_model.pkl', 'wb'))\n",
    "# save the scaler\n",
    "dump(sc, open('word_number_scaler.pkl', 'wb'))"
   ]
  },
  {
   "cell_type": "code",
   "execution_count": null,
   "metadata": {},
   "outputs": [],
   "source": []
  }
 ],
 "metadata": {
  "kernelspec": {
   "display_name": "sklearn-env",
   "language": "python",
   "name": "sklearn-env"
  },
  "language_info": {
   "codemirror_mode": {
    "name": "ipython",
    "version": 3
   },
   "file_extension": ".py",
   "mimetype": "text/x-python",
   "name": "python",
   "nbconvert_exporter": "python",
   "pygments_lexer": "ipython3",
   "version": "3.7.0"
  }
 },
 "nbformat": 4,
 "nbformat_minor": 4
}
